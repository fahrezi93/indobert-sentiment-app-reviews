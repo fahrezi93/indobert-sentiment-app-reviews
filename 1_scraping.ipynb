{
 "cells": [
  {
   "cell_type": "markdown",
   "id": "00ad4b36",
   "metadata": {},
   "source": [
    "# 📱 1. Scraping Review dari Play Store\n",
    "\n",
    "Notebook ini akan melakukan scraping review dari aplikasi transportasi online di Google Play Store.\n",
    "\n",
    "**Aplikasi Target:**\n",
    "- Gojek\n",
    "- Grab  \n",
    "- Maxim\n",
    "\n",
    "**Output:** File CSV di folder `data/raw/`"
   ]
  },
  {
   "cell_type": "code",
   "execution_count": null,
   "id": "d0db5a4f",
   "metadata": {},
   "outputs": [],
   "source": [
    "# Import libraries\n",
    "import pandas as pd\n",
    "import time\n",
    "from google_play_scraper import Sort, reviews\n",
    "from pathlib import Path\n",
    "from tqdm import tqdm\n",
    "import os\n",
    "from dotenv import load_dotenv\n",
    "\n",
    "# Load environment variables\n",
    "load_dotenv()\n",
    "\n",
    "# Buat folder jika belum ada\n",
    "Path('data/raw').mkdir(parents=True, exist_ok=True)\n",
    "\n",
    "print(\"✅ Setup complete!\")"
   ]
  },
  {
   "cell_type": "markdown",
   "id": "098d7366",
   "metadata": {},
   "source": [
    "## Konfigurasi Scraping\n",
    "\n",
    "Edit cell di bawah untuk mengatur:\n",
    "- Package name aplikasi\n",
    "- Jumlah review yang akan di-scrape\n",
    "- Bahasa dan negara"
   ]
  },
  {
   "cell_type": "code",
   "execution_count": null,
   "id": "1a2e12f5",
   "metadata": {},
   "outputs": [],
   "source": [
    "# Konfigurasi\n",
    "APPS = {\n",
    "    'gojek': 'com.gojek.app',\n",
    "    'grab': 'com.grabtaxi.passenger',\n",
    "    'maxim': 'com.maximtaxi.passenger'\n",
    "}\n",
    "\n",
    "# Jumlah review per aplikasi\n",
    "COUNT_PER_APP = int(os.getenv('SCRAPE_COUNT_PER_APP', 2000))\n",
    "\n",
    "# Bahasa dan negara\n",
    "LANG = 'id'\n",
    "COUNTRY = 'id'\n",
    "\n",
    "print(f\"📱 Apps: {list(APPS.keys())}\")\n",
    "print(f\"📊 Reviews per app: {COUNT_PER_APP}\")\n",
    "print(f\"🌍 Language: {LANG}, Country: {COUNTRY}\")"
   ]
  },
  {
   "cell_type": "markdown",
   "id": "4cb5703a",
   "metadata": {},
   "source": [
    "## Fungsi Scraping\n",
    "\n",
    "Fungsi untuk scraping review dengan error handling dan progress bar."
   ]
  },
  {
   "cell_type": "code",
   "execution_count": null,
   "id": "d9b39a21",
   "metadata": {},
   "outputs": [],
   "source": [
    "def scrape_app_reviews(app_name, package_name, count=2000, lang='id', country='id'):\n",
    "    \"\"\"\n",
    "    Scrape reviews dari Google Play Store.\n",
    "    \n",
    "    Args:\n",
    "        app_name: Nama aplikasi (untuk penamaan file)\n",
    "        package_name: Package name aplikasi di Play Store\n",
    "        count: Jumlah review yang akan di-scrape\n",
    "        lang: Kode bahasa (default: 'id')\n",
    "        country: Kode negara (default: 'id')\n",
    "    \n",
    "    Returns:\n",
    "        DataFrame berisi review\n",
    "    \"\"\"\n",
    "    print(f\"\\n🔍 Scraping {app_name}...\")\n",
    "    \n",
    "    try:\n",
    "        # Scraping reviews\n",
    "        result, continuation_token = reviews(\n",
    "            package_name,\n",
    "            lang=lang,\n",
    "            country=country,\n",
    "            sort=Sort.NEWEST,\n",
    "            count=count\n",
    "        )\n",
    "        \n",
    "        if not result:\n",
    "            print(f\"⚠️ Tidak ada review ditemukan untuk {app_name}\")\n",
    "            return pd.DataFrame()\n",
    "        \n",
    "        # Convert ke DataFrame\n",
    "        df = pd.DataFrame(result)\n",
    "        \n",
    "        # Pilih kolom yang diperlukan\n",
    "        df = df[['content', 'score', 'at', 'thumbsUpCount']].copy()\n",
    "        df['app'] = app_name\n",
    "        \n",
    "        # Reorder columns\n",
    "        df = df[['app', 'content', 'score', 'at', 'thumbsUpCount']]\n",
    "        \n",
    "        # Simpan ke CSV\n",
    "        output_file = f'data/raw/{app_name}_reviews.csv'\n",
    "        df.to_csv(output_file, index=False, encoding='utf-8')\n",
    "        \n",
    "        print(f\"✅ Scraped {len(df)} reviews\")\n",
    "        print(f\"💾 Saved to: {output_file}\")\n",
    "        \n",
    "        return df\n",
    "        \n",
    "    except Exception as e:\n",
    "        print(f\"❌ Error scraping {app_name}: {e}\")\n",
    "        return pd.DataFrame()"
   ]
  },
  {
   "cell_type": "markdown",
   "id": "b9ffcbda",
   "metadata": {},
   "source": [
    "## Jalankan Scraping\n",
    "\n",
    "Proses scraping akan dimulai. **Estimasi waktu: 5-10 menit** (tergantung koneksi internet)."
   ]
  },
  {
   "cell_type": "code",
   "execution_count": null,
   "id": "72c0acb5",
   "metadata": {},
   "outputs": [],
   "source": [
    "# Scraping semua aplikasi\n",
    "all_reviews = []\n",
    "\n",
    "print(\"=\" * 60)\n",
    "print(\"🚀 MULAI SCRAPING\")\n",
    "print(\"=\" * 60)\n",
    "\n",
    "for app_name, package_name in APPS.items():\n",
    "    df = scrape_app_reviews(\n",
    "        app_name=app_name,\n",
    "        package_name=package_name,\n",
    "        count=COUNT_PER_APP,\n",
    "        lang=LANG,\n",
    "        country=COUNTRY\n",
    "    )\n",
    "    \n",
    "    if not df.empty:\n",
    "        all_reviews.append(df)\n",
    "    \n",
    "    # Delay untuk menghindari rate limit\n",
    "    time.sleep(2)\n",
    "\n",
    "print(\"\\n\" + \"=\" * 60)\n",
    "print(\"✅ SCRAPING SELESAI!\")\n",
    "print(\"=\" * 60)\n",
    "\n",
    "if all_reviews:\n",
    "    total_reviews = sum(len(df) for df in all_reviews)\n",
    "    print(f\"\\n📊 Total reviews: {total_reviews}\")\n",
    "    print(f\"📁 Files tersimpan di: data/raw/\")\n",
    "else:\n",
    "    print(\"\\n⚠️ Tidak ada review yang berhasil di-scrape\")"
   ]
  },
  {
   "cell_type": "markdown",
   "id": "e808fb3e",
   "metadata": {},
   "source": [
    "## Preview Data\n",
    "\n",
    "Mari kita lihat contoh data yang berhasil di-scrape."
   ]
  },
  {
   "cell_type": "code",
   "execution_count": null,
   "id": "f002c50a",
   "metadata": {},
   "outputs": [],
   "source": [
    "# Load salah satu file untuk preview\n",
    "if all_reviews:\n",
    "    print(\"📋 Preview data Gojek:\")\n",
    "    print(\"-\" * 60)\n",
    "    \n",
    "    # Tampilkan 5 review pertama\n",
    "    df_preview = all_reviews[0].head()\n",
    "    print(df_preview)\n",
    "    \n",
    "    # Statistik\n",
    "    print(\"\\n📊 Statistik:\")\n",
    "    for df in all_reviews:\n",
    "        app_name = df['app'].iloc[0]\n",
    "        print(f\"\\n{app_name}:\")\n",
    "        print(f\"  - Total reviews: {len(df)}\")\n",
    "        print(f\"  - Rating distribution:\")\n",
    "        print(df['score'].value_counts().sort_index().to_string())"
   ]
  },
  {
   "cell_type": "markdown",
   "id": "dab480b6",
   "metadata": {},
   "source": [
    "## 🎉 Selesai!\n",
    "\n",
    "Data review berhasil di-scrape dan disimpan di folder `data/raw/`.\n",
    "\n",
    "**Next steps:**\n",
    "- Jalankan notebook `2_preprocessing.ipynb` untuk membersihkan data\n",
    "- File yang dihasilkan:\n",
    "  - `data/raw/gojek_reviews.csv`\n",
    "  - `data/raw/grab_reviews.csv`\n",
    "  - `data/raw/maxim_reviews.csv`\n",
    "\n",
    "**Catatan:**\n",
    "- Jika terjadi error, coba kurangi `COUNT_PER_APP`\n",
    "- Scraping mematuhi rate limit untuk menghindari IP ban\n",
    "- Data adalah review publik dari Play Store"
   ]
  }
 ],
 "metadata": {
  "kernelspec": {
   "display_name": "venv",
   "language": "python",
   "name": "python3"
  },
  "language_info": {
   "name": "python",
   "version": "3.11.6"
  }
 },
 "nbformat": 4,
 "nbformat_minor": 5
}
