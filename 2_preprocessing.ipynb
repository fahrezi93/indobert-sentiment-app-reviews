{
          "cells": [
                    {
                              "cell_type": "markdown",
                              "id": "1938fbd4",
                              "metadata": {},
                              "source": [
                                        "# ðŸ§¹ 2. Preprocessing Data\n",
                                        "\n",
                                        "Notebook ini akan membersihkan dan mempersiapkan data review untuk analisis sentimen.\n",
                                        "\n",
                                        "**Proses:**\n",
                                        "1. Load data dari `data/raw/`\n",
                                        "2. Cleaning teks (URL, emoji, punctuation berlebih, dll)\n",
                                        "3. Normalisasi slang bahasa Indonesia\n",
                                        "4. Labeling otomatis berdasarkan rating\n",
                                        "5. Simpan data bersih ke `data/interim/`"
                              ]
                    },
                    {
                              "cell_type": "code",
                              "execution_count": 1,
                              "id": "1cc7bd75",
                              "metadata": {},
                              "outputs": [
                                        {
                                                  "name": "stdout",
                                                  "output_type": "stream",
                                                  "text": [
                                                            "âœ… Setup complete!\n"
                                                  ]
                                        }
                              ],
                              "source": [
                                        "# Import libraries\n",
                                        "import pandas as pd\n",
                                        "import re\n",
                                        "from pathlib import Path\n",
                                        "import warnings\n",
                                        "warnings.filterwarnings('ignore')\n",
                                        "\n",
                                        "# Buat folder jika belum ada\n",
                                        "Path('data/interim').mkdir(parents=True, exist_ok=True)\n",
                                        "\n",
                                        "print(\"âœ… Setup complete!\")"
                              ]
                    },
                    {
                              "cell_type": "markdown",
                              "id": "bce8bc88",
                              "metadata": {},
                              "source": [
                                        "## Fungsi Text Cleaning\n",
                                        "\n",
                                        "Fungsi untuk membersihkan teks bahasa Indonesia."
                              ]
                    },
                    {
                              "cell_type": "code",
                              "execution_count": 2,
                              "id": "771a9463",
                              "metadata": {},
                              "outputs": [
                                        {
                                                  "name": "stdout",
                                                  "output_type": "stream",
                                                  "text": [
                                                            "Original: APLIKASI @gojek SANGAT BAGUS!!! Cek https://example.com ðŸ˜Š\n",
                                                            "Cleaned: aplikasi sangat bagus! cek ðÿ˜š\n"
                                                  ]
                                        }
                              ],
                              "source": [
                                        "def clean_text(text):\n",
                                        "    \"\"\"\n",
                                        "    Membersihkan teks bahasa Indonesia.\n",
                                        "    \n",
                                        "    Proses:\n",
                                        "    - Lowercase\n",
                                        "    - Remove URL\n",
                                        "    - Remove email\n",
                                        "    - Remove mention (@)\n",
                                        "    - Remove hashtag (#)\n",
                                        "    - Remove emoji\n",
                                        "    - Remove punctuation berlebih (!!!, ???)\n",
                                        "    - Remove extra whitespace\n",
                                        "    \"\"\"\n",
                                        "    if not isinstance(text, str) or not text:\n",
                                        "        return \"\"\n",
                                        "    \n",
                                        "    # Lowercase\n",
                                        "    text = text.lower()\n",
                                        "    \n",
                                        "    # Remove URL\n",
                                        "    text = re.sub(r'http\\S+|www\\S+', '', text)\n",
                                        "    \n",
                                        "    # Remove email\n",
                                        "    text = re.sub(r'\\S+@\\S+', '', text)\n",
                                        "    \n",
                                        "    # Remove mention\n",
                                        "    text = re.sub(r'@\\w+', '', text)\n",
                                        "    \n",
                                        "    # Remove hashtag (tapi keep kata)\n",
                                        "    text = re.sub(r'#(\\w+)', r'\\1', text)\n",
                                        "    \n",
                                        "    # Remove emoji (basic)\n",
                                        "    emoji_pattern = re.compile(\"[\"\n",
                                        "        u\"\\U0001F600-\\U0001F64F\"  # emoticons\n",
                                        "        u\"\\U0001F300-\\U0001F5FF\"  # symbols & pictographs\n",
                                        "        u\"\\U0001F680-\\U0001F6FF\"  # transport & map\n",
                                        "        u\"\\U0001F1E0-\\U0001F1FF\"  # flags\n",
                                        "        \"]+\", flags=re.UNICODE)\n",
                                        "    text = emoji_pattern.sub('', text)\n",
                                        "    \n",
                                        "    # Remove excessive punctuation\n",
                                        "    text = re.sub(r'([!?.]){2,}', r'\\1', text)\n",
                                        "    \n",
                                        "    # Remove extra whitespace\n",
                                        "    text = re.sub(r'\\s+', ' ', text)\n",
                                        "    text = text.strip()\n",
                                        "    \n",
                                        "    return text\n",
                                        "\n",
                                        "# Test fungsi\n",
                                        "test_text = \"APLIKASI @gojek SANGAT BAGUS!!! Cek https://example.com ðŸ˜Š\"\n",
                                        "print(\"Original:\", test_text)\n",
                                        "print(\"Cleaned:\", clean_text(test_text))"
                              ]
                    },
                    {
                              "cell_type": "markdown",
                              "id": "3ed76e69",
                              "metadata": {},
                              "source": [
                                        "## Normalisasi Slang Indonesia\n",
                                        "\n",
                                        "Mengubah slang/singkatan menjadi kata baku."
                              ]
                    },
                    {
                              "cell_type": "code",
                              "execution_count": 3,
                              "id": "9205a773",
                              "metadata": {},
                              "outputs": [
                                        {
                                                  "name": "stdout",
                                                  "output_type": "stream",
                                                  "text": [
                                                            "Original: aplikasi sangat bagus bgt tp kadang error jg\n",
                                                            "Normalized: aplikasi sangat bagus banget tapi kadang error juga\n"
                                                  ]
                                        }
                              ],
                              "source": [
                                        "# Dictionary slang Indonesia\n",
                                        "SLANG_DICT = {\n",
                                        "    'gak': 'tidak', 'ga': 'tidak', 'nggak': 'tidak', 'ngga': 'tidak',\n",
                                        "    'gk': 'tidak', 'tdk': 'tidak',\n",
                                        "    'udah': 'sudah', 'udh': 'sudah',\n",
                                        "    'blm': 'belum', 'blum': 'belum',\n",
                                        "    'tp': 'tapi', 'tp': 'tapi',\n",
                                        "    'yg': 'yang', 'dgn': 'dengan', 'utk': 'untuk',\n",
                                        "    'krn': 'karena', 'krna': 'karena',\n",
                                        "    'bgt': 'banget', 'bngdt': 'banget',\n",
                                        "    'bg': 'bagus', 'bgs': 'bagus',\n",
                                        "    'aja': 'saja',\n",
                                        "    'hrs': 'harus',\n",
                                        "    'trs': 'terus',\n",
                                        "    'org': 'orang',\n",
                                        "    'jg': 'juga', 'jgn': 'jangan',\n",
                                        "    'gmn': 'gimana', 'gmana': 'gimana',\n",
                                        "    'emg': 'memang', 'emng': 'memang',\n",
                                        "    'skrg': 'sekarang', 'skrng': 'sekarang',\n",
                                        "    'smua': 'semua'\n",
                                        "}\n",
                                        "\n",
                                        "def normalize_slang(text):\n",
                                        "    \"\"\"Normalisasi slang Indonesia.\"\"\"\n",
                                        "    words = text.split()\n",
                                        "    normalized = [SLANG_DICT.get(word, word) for word in words]\n",
                                        "    return ' '.join(normalized)\n",
                                        "\n",
                                        "# Test fungsi\n",
                                        "test_text = \"aplikasi sangat bagus bgt tp kadang error jg\"\n",
                                        "print(\"Original:\", test_text)\n",
                                        "print(\"Normalized:\", normalize_slang(test_text))"
                              ]
                    },
                    {
                              "cell_type": "markdown",
                              "id": "25fc6264",
                              "metadata": {},
                              "source": [
                                        "## Auto-Labeling\n",
                                        "\n",
                                        "Labeling otomatis berdasarkan rating:\n",
                                        "- **1-2 stars** â†’ negatif\n",
                                        "- **3 stars** â†’ netral\n",
                                        "- **4-5 stars** â†’ positif"
                              ]
                    },
                    {
                              "cell_type": "code",
                              "execution_count": 4,
                              "id": "cd98b8c0",
                              "metadata": {},
                              "outputs": [
                                        {
                                                  "name": "stdout",
                                                  "output_type": "stream",
                                                  "text": [
                                                            "Score 1 â†’ negatif\n",
                                                            "Score 2 â†’ negatif\n",
                                                            "Score 3 â†’ netral\n",
                                                            "Score 4 â†’ positif\n",
                                                            "Score 5 â†’ positif\n"
                                                  ]
                                        }
                              ],
                              "source": [
                                        "def auto_label(score):\n",
                                        "    \"\"\"\n",
                                        "    Label sentimen berdasarkan rating.\n",
                                        "    \n",
                                        "    Args:\n",
                                        "        score: Rating (1-5)\n",
                                        "    \n",
                                        "    Returns:\n",
                                        "        'positif', 'netral', atau 'negatif'\n",
                                        "    \"\"\"\n",
                                        "    if score >= 4:\n",
                                        "        return 'positif'\n",
                                        "    elif score == 3:\n",
                                        "        return 'netral'\n",
                                        "    else:\n",
                                        "        return 'negatif'\n",
                                        "\n",
                                        "# Test fungsi\n",
                                        "for score in [1, 2, 3, 4, 5]:\n",
                                        "    print(f\"Score {score} â†’ {auto_label(score)}\")"
                              ]
                    },
                    {
                              "cell_type": "markdown",
                              "id": "169f8ef1",
                              "metadata": {},
                              "source": [
                                        "## Load & Preprocess Data\n",
                                        "\n",
                                        "Load semua file dari `data/raw/` dan proses satu per satu."
                              ]
                    },
                    {
                              "cell_type": "code",
                              "execution_count": 5,
                              "id": "64c8d585",
                              "metadata": {},
                              "outputs": [
                                        {
                                                  "name": "stdout",
                                                  "output_type": "stream",
                                                  "text": [
                                                            "ðŸ“ Ditemukan 2 file:\n",
                                                            "   - gojek_reviews.csv\n",
                                                            "   - grab_reviews.csv\n"
                                                  ]
                                        }
                              ],
                              "source": [
                                        "import os\n",
                                        "from glob import glob\n",
                                        "\n",
                                        "# Cari semua file CSV di data/raw/\n",
                                        "raw_files = glob('data/raw/*_reviews.csv')\n",
                                        "\n",
                                        "if not raw_files:\n",
                                        "    print(\"âŒ Tidak ada file di data/raw/\")\n",
                                        "    print(\"âš ï¸ Jalankan notebook 1_scraping.ipynb terlebih dahulu!\")\n",
                                        "else:\n",
                                        "    print(f\"ðŸ“ Ditemukan {len(raw_files)} file:\")\n",
                                        "    for f in raw_files:\n",
                                        "        print(f\"   - {os.path.basename(f)}\")"
                              ]
                    },
                    {
                              "cell_type": "code",
                              "execution_count": 6,
                              "id": "6a988f50",
                              "metadata": {},
                              "outputs": [],
                              "source": [
                                        "def preprocess_dataframe(df, app_name):\n",
                                        "    \"\"\"\n",
                                        "    Preprocess DataFrame.\n",
                                        "    \n",
                                        "    Proses:\n",
                                        "    1. Drop missing values\n",
                                        "    2. Clean text\n",
                                        "    3. Normalize slang\n",
                                        "    4. Auto-label\n",
                                        "    5. Remove duplicates\n",
                                        "    6. Remove very short texts\n",
                                        "    \"\"\"\n",
                                        "    print(f\"\\nðŸ”„ Processing {app_name}...\")\n",
                                        "    print(f\"   Initial rows: {len(df)}\")\n",
                                        "    \n",
                                        "    # Drop missing\n",
                                        "    df = df.dropna(subset=['content', 'score'])\n",
                                        "    print(f\"   After drop NaN: {len(df)}\")\n",
                                        "    \n",
                                        "    # Clean text\n",
                                        "    df['clean_text'] = df['content'].apply(clean_text)\n",
                                        "    \n",
                                        "    # Normalize slang\n",
                                        "    df['clean_text'] = df['clean_text'].apply(normalize_slang)\n",
                                        "    \n",
                                        "    # Remove very short texts (< 5 characters)\n",
                                        "    df = df[df['clean_text'].str.len() >= 5]\n",
                                        "    print(f\"   After remove short: {len(df)}\")\n",
                                        "    \n",
                                        "    # Auto-label\n",
                                        "    df['label'] = df['score'].apply(auto_label)\n",
                                        "    \n",
                                        "    # Remove duplicates\n",
                                        "    df = df.drop_duplicates(subset=['clean_text'], keep='first')\n",
                                        "    print(f\"   After dedup: {len(df)}\")\n",
                                        "    \n",
                                        "    # Show label distribution\n",
                                        "    print(f\"   Label distribution:\")\n",
                                        "    for label, count in df['label'].value_counts().items():\n",
                                        "        percentage = count / len(df) * 100\n",
                                        "        print(f\"      {label}: {count} ({percentage:.1f}%)\")\n",
                                        "    \n",
                                        "    return df"
                              ]
                    },
                    {
                              "cell_type": "code",
                              "execution_count": 7,
                              "id": "5d2a09b7",
                              "metadata": {},
                              "outputs": [
                                        {
                                                  "name": "stdout",
                                                  "output_type": "stream",
                                                  "text": [
                                                            "============================================================\n",
                                                            "ðŸš€ MULAI PREPROCESSING\n",
                                                            "============================================================\n",
                                                            "\n",
                                                            "ðŸ”„ Processing gojek...\n",
                                                            "   Initial rows: 2000\n",
                                                            "   After drop NaN: 2000\n",
                                                            "   After remove short: 1758\n",
                                                            "   After dedup: 1510\n",
                                                            "   Label distribution:\n",
                                                            "      positif: 862 (57.1%)\n",
                                                            "      negatif: 567 (37.5%)\n",
                                                            "      netral: 81 (5.4%)\n",
                                                            "   âœ… Saved to: data/interim/gojek_clean.csv\n",
                                                            "\n",
                                                            "ðŸ”„ Processing grab...\n",
                                                            "   Initial rows: 2000\n",
                                                            "   After drop NaN: 2000\n",
                                                            "   After remove short: 1710\n",
                                                            "   After dedup: 1257\n",
                                                            "   Label distribution:\n",
                                                            "      positif: 853 (67.9%)\n",
                                                            "      negatif: 347 (27.6%)\n",
                                                            "      netral: 57 (4.5%)\n",
                                                            "   âœ… Saved to: data/interim/grab_clean.csv\n",
                                                            "\n",
                                                            "============================================================\n",
                                                            "âœ… PREPROCESSING SELESAI!\n",
                                                            "============================================================\n"
                                                  ]
                                        }
                              ],
                              "source": [
                                        "# Proses semua file\n",
                                        "all_clean_data = []\n",
                                        "\n",
                                        "print(\"=\" * 60)\n",
                                        "print(\"ðŸš€ MULAI PREPROCESSING\")\n",
                                        "print(\"=\" * 60)\n",
                                        "\n",
                                        "for file_path in raw_files:\n",
                                        "    # Load data\n",
                                        "    app_name = os.path.basename(file_path).replace('_reviews.csv', '')\n",
                                        "    df = pd.read_csv(file_path)\n",
                                        "    \n",
                                        "    # Preprocess\n",
                                        "    df_clean = preprocess_dataframe(df, app_name)\n",
                                        "    \n",
                                        "    # Simpan per app\n",
                                        "    output_file = f'data/interim/{app_name}_clean.csv'\n",
                                        "    df_clean.to_csv(output_file, index=False, encoding='utf-8')\n",
                                        "    print(f\"   âœ… Saved to: {output_file}\")\n",
                                        "    \n",
                                        "    all_clean_data.append(df_clean)\n",
                                        "\n",
                                        "print(\"\\n\" + \"=\" * 60)\n",
                                        "print(\"âœ… PREPROCESSING SELESAI!\")\n",
                                        "print(\"=\" * 60)"
                              ]
                    },
                    {
                              "cell_type": "markdown",
                              "id": "ddeb395f",
                              "metadata": {},
                              "source": [
                                        "## Gabungkan Semua Data\n",
                                        "\n",
                                        "Gabungkan data dari semua aplikasi menjadi satu file."
                              ]
                    },
                    {
                              "cell_type": "code",
                              "execution_count": null,
                              "id": "ce3b9122",
                              "metadata": {},
                              "outputs": [
                                        {
                                                  "name": "stdout",
                                                  "output_type": "stream",
                                                  "text": [
                                                            "\n",
                                                            "ðŸ“Š Total data setelah digabung: 2767\n",
                                                            "\n",
                                                            "ðŸ“ˆ Distribusi Label Keseluruhan:\n",
                                                            "   positif: 1715 (62.0%)\n",
                                                            "   negatif: 914 (33.0%)\n",
                                                            "   netral: 138 (5.0%)\n",
                                                            "\n",
                                                            "ðŸ“± Distribusi per Aplikasi:\n",
                                                            "   gojek: 1510 (54.6%)\n",
                                                            "   grab: 1257 (45.4%)\n",
                                                            "\n",
                                                            "ðŸ’¾ Saved combined data to: data/interim/all_apps_clean.csv\n"
                                                  ]
                                        }
                              ],
                              "source": [
                                        "# Gabungkan semua data\n",
                                        "df_all = pd.concat(all_clean_data, ignore_index=True)\n",
                                        "\n",
                                        "print(f\"\\n📊 Total data setelah digabung: {len(df_all)}\")\n",
                                        "\n",
                                        "# Overall label distribution\n",
                                        "print(f\"\\n📈 Distribusi Label Keseluruhan:\")\n",
                                        "label_counts = df_all['label'].value_counts()\n",
                                        "for label, count in label_counts.items():\n",
                                        "    percentage = count / len(df_all) * 100\n",
                                        "    print(f\"   {label}: {count} ({percentage:.1f}%)\")\n",
                                        "\n",
                                        "# Class imbalance analysis\n",
                                        "print(f\"\\n⚖️ ANALISIS CLASS IMBALANCE:\")\n",
                                        "max_count = label_counts.max()\n",
                                        "min_count = label_counts.min()\n",
                                        "imbalance_ratio = max_count / min_count\n",
                                        "print(f\"   Imbalance ratio: {imbalance_ratio:.2f}:1\")\n",
                                        "\n",
                                        "if imbalance_ratio > 3:\n",
                                        "    print(f\"   ⚠️ WARNING: Class imbalance terdeteksi!\")\n",
                                        "    print(f\"   Kelas mayoritas ({label_counts.idxmax()}): {max_count}\")\n",
                                        "    print(f\"   Kelas minoritas ({label_counts.idxmin()}): {min_count}\")\n",
                                        "    print(f\"\\n   💡 Rekomendasi:\")\n",
                                        "    print(f\"      - Model mungkin bias ke kelas mayoritas\")\n",
                                        "    print(f\"      - Pertimbangkan teknik: oversampling, undersampling, atau class weights\")\n",
                                        "    print(f\"      - Atau fokus ke binary classification (positif vs negatif)\")\n",
                                        "else:\n",
                                        "    print(f\"   ✅ Class distribution cukup seimbang\")\n",
                                        "\n",
                                        "# Distribusi per app\n",
                                        "print(f\"\\n📱 Distribusi per Aplikasi:\")\n",
                                        "for app in df_all['app'].unique():\n",
                                        "    count = len(df_all[df_all['app'] == app])\n",
                                        "    percentage = count / len(df_all) * 100\n",
                                        "    print(f\"   {app}: {count} ({percentage:.1f}%)\")\n",
                                        "\n",
                                        "# Simpan gabungan\n",
                                        "output_all = 'data/interim/all_apps_clean.csv'\n",
                                        "df_all.to_csv(output_all, index=False, encoding='utf-8')\n",
                                        "print(f\"\\n💾 Saved combined data to: {output_all}\")"
                              ]
                    },
                    {
                              "cell_type": "markdown",
                              "id": "d9e5297a",
                              "metadata": {},
                              "source": [
                                        "## Preview Data Bersih\n",
                                        "\n",
                                        "Lihat contoh data yang sudah dibersihkan."
                              ]
                    },
                    {
                              "cell_type": "code",
                              "execution_count": 9,
                              "id": "460baa2d",
                              "metadata": {},
                              "outputs": [
                                        {
                                                  "name": "stdout",
                                                  "output_type": "stream",
                                                  "text": [
                                                            "ðŸ“‹ CONTOH DATA PER LABEL\n",
                                                            "================================================================================\n",
                                                            "\n",
                                                            "ðŸ·ï¸ POSITIF:\n",
                                                            "--------------------------------------------------------------------------------\n",
                                                            "App: gojek | Score: 5\n",
                                                            "Original: sangat membantu...\n",
                                                            "Cleaned: sangat membantu...\n",
                                                            "\n",
                                                            "App: gojek | Score: 5\n",
                                                            "Original: sangat membantu keperluan masyarakat untuk harga bisa sedikit di minimalkan apalagi untuk ongkir mak...\n",
                                                            "Cleaned: sangat membantu keperluan masyarakat untuk harga bisa sedikit di minimalkan apalagi untuk ongkir mak...\n",
                                                            "\n",
                                                            "App: gojek | Score: 5\n",
                                                            "Original: apk yang, bagusss...\n",
                                                            "Cleaned: apk yang, bagusss...\n",
                                                            "\n",
                                                            "\n",
                                                            "ðŸ·ï¸ NETRAL:\n",
                                                            "--------------------------------------------------------------------------------\n",
                                                            "App: gojek | Score: 3\n",
                                                            "Original: dark mode kapan?...\n",
                                                            "Cleaned: dark mode kapan?...\n",
                                                            "\n",
                                                            "App: gojek | Score: 3\n",
                                                            "Original: aneh masa lunasin go pinjam mau pinjem lagi malah di tolak kocak zolim Lo...\n",
                                                            "Cleaned: aneh masa lunasin go pinjam mau pinjem lagi malah di tolak kocak zolim lo...\n",
                                                            "\n",
                                                            "App: gojek | Score: 3\n",
                                                            "Original: mengecewakan,awalnya bagus padahal pake gojek udah lama banget ada x 10 tahunan.tp ini terakhir bena...\n",
                                                            "Cleaned: mengecewakan,awalnya bagus padahal pake gojek sudah lama banget ada x 10 tahunan.tp ini terakhir ben...\n",
                                                            "\n",
                                                            "\n",
                                                            "ðŸ·ï¸ NEGATIF:\n",
                                                            "--------------------------------------------------------------------------------\n",
                                                            "App: gojek | Score: 1\n",
                                                            "Original: hati hati aplikasi ini sering error , jgn mau memakai jasa gojek . sadar Kelen pesan driver jauh jau...\n",
                                                            "Cleaned: hati hati aplikasi ini sering error , jangan mau memakai jasa gojek . sadar kelen pesan driver jauh ...\n",
                                                            "\n",
                                                            "App: gojek | Score: 1\n",
                                                            "Original: transfer ke bank lain memakai aplikasi ini tapi gak kunjung tiba ke rekening penerima, dsuruh nunggu...\n",
                                                            "Cleaned: transfer ke bank lain memakai aplikasi ini tapi tidak kunjung tiba ke rekening penerima, dsuruh nung...\n",
                                                            "\n",
                                                            "App: gojek | Score: 1\n",
                                                            "Original: kenapa driver tidak segera mengabari apabila sudah sampai, dan kenapa harus marah²...\n",
                                                            "Cleaned: kenapa driver tidak segera mengabari apabila sudah sampai, dan kenapa harus marah²...\n",
                                                            "\n"
                                                  ]
                                        }
                              ],
                              "source": [
                                        "# Tampilkan contoh per label\n",
                                        "print(\"ðŸ“‹ CONTOH DATA PER LABEL\")\n",
                                        "print(\"=\" * 80)\n",
                                        "\n",
                                        "for label in ['positif', 'netral', 'negatif']:\n",
                                        "    print(f\"\\nðŸ·ï¸ {label.upper()}:\")\n",
                                        "    print(\"-\" * 80)\n",
                                        "    \n",
                                        "    samples = df_all[df_all['label'] == label].head(3)\n",
                                        "    for idx, row in samples.iterrows():\n",
                                        "        print(f\"App: {row['app']} | Score: {row['score']}\")\n",
                                        "        print(f\"Original: {row['content'][:100]}...\")\n",
                                        "        print(f\"Cleaned: {row['clean_text'][:100]}...\")\n",
                                        "        print()"
                              ]
                    },
                    {
                              "cell_type": "markdown",
                              "id": "085ebabf",
                              "metadata": {},
                              "source": [
                                        "## ðŸŽ‰ Selesai!\n",
                                        "\n",
                                        "Data berhasil dibersihkan dan disimpan di `data/interim/`.\n",
                                        "\n",
                                        "**Output files:**\n",
                                        "- `data/interim/gojek_clean.csv`\n",
                                        "- `data/interim/grab_clean.csv`\n",
                                        "- `data/interim/all_apps_clean.csv` *(gabungan semua)*\n",
                                        "\n",
                                        "**Next steps:**\n",
                                        "- Jalankan notebook `3_sentiment_analysis.ipynb` untuk prediksi sentimen dengan IndoBERT\n",
                                        "\n",
                                        "**Statistik:**\n",
                                        "- Total data: {len(df_all)} reviews\n",
                                        "- Label: positif, netral, negatif\n",
                                        "- Siap untuk analisis sentimen!"
                              ]
                    }
          ],
          "metadata": {
                    "kernelspec": {
                              "display_name": "venv",
                              "language": "python",
                              "name": "python3"
                    },
                    "language_info": {
                              "codemirror_mode": {
                                        "name": "ipython",
                                        "version": 3
                              },
                              "file_extension": ".py",
                              "mimetype": "text/x-python",
                              "name": "python",
                              "nbconvert_exporter": "python",
                              "pygments_lexer": "ipython3",
                              "version": "3.11.6"
                    }
          },
          "nbformat": 4,
          "nbformat_minor": 5
}
