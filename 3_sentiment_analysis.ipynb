{
 "cells": [
  {
   "cell_type": "markdown",
   "id": "439cd2e1",
   "metadata": {},
   "source": [
    "# 🤖 3. Sentiment Analysis dengan IndoBERT\n",
    "\n",
    "Notebook ini akan memprediksi sentimen menggunakan model **IndoBERT** (`mdhugol/indonesia-bert-sentiment-classification`).\n",
    "\n",
    "**Model:** Pre-trained IndoBERT untuk sentiment analysis bahasa Indonesia  \n",
    "**Output:** 3 kelas sentimen (positive, neutral, negative) + probabilitas\n",
    "\n",
    "**Catatan:** First run akan download model (~400MB). Pastikan koneksi internet stabil."
   ]
  },
  {
   "cell_type": "code",
   "execution_count": 1,
   "id": "2983d729",
   "metadata": {},
   "outputs": [
    {
     "name": "stdout",
     "output_type": "stream",
     "text": [
      "🖥️ Device: cuda\n",
      "🔢 PyTorch version: 2.7.1+cu118\n",
      "✅ GPU available: NVIDIA GeForce RTX 2050\n"
     ]
    }
   ],
   "source": [
    "# Import libraries\n",
    "import pandas as pd\n",
    "import torch\n",
    "from transformers import AutoTokenizer, AutoModelForSequenceClassification\n",
    "from pathlib import Path\n",
    "from tqdm.auto import tqdm\n",
    "import warnings\n",
    "warnings.filterwarnings('ignore')\n",
    "\n",
    "# Check GPU\n",
    "device = 'cuda' if torch.cuda.is_available() else 'cpu'\n",
    "print(f\"🖥️ Device: {device}\")\n",
    "print(f\"🔢 PyTorch version: {torch.__version__}\")\n",
    "\n",
    "if device == 'cuda':\n",
    "    print(f\"✅ GPU available: {torch.cuda.get_device_name(0)}\")\n",
    "else:\n",
    "    print(\"⚠️ Using CPU (inference will be slower)\")\n",
    "\n",
    "# Buat folder\n",
    "Path('data/processed').mkdir(parents=True, exist_ok=True)\n",
    "Path('models').mkdir(parents=True, exist_ok=True)"
   ]
  },
  {
   "cell_type": "markdown",
   "id": "f12a8606",
   "metadata": {},
   "source": [
    "## Load Data\n",
    "\n",
    "Load data yang sudah dibersihkan dari notebook sebelumnya."
   ]
  },
  {
   "cell_type": "code",
   "execution_count": 2,
   "id": "a8d1085c",
   "metadata": {},
   "outputs": [
    {
     "name": "stdout",
     "output_type": "stream",
     "text": [
      "✅ Loaded data: 2767 reviews\n",
      "📊 Columns: ['app', 'content', 'score', 'at', 'thumbsUpCount', 'clean_text', 'label']\n",
      "\n",
      "📋 Preview:\n",
      "     app                                            content  score  \\\n",
      "0  gojek  hati hati aplikasi ini sering error , jgn mau ...      1   \n",
      "1  gojek                                    sangat membantu      5   \n",
      "2  gojek  sangat membantu keperluan masyarakat untuk har...      5   \n",
      "3  gojek  transfer ke bank lain memakai aplikasi ini tap...      1   \n",
      "4  gojek                                  apk yang, bagusss      5   \n",
      "\n",
      "                    at  thumbsUpCount  \\\n",
      "0  2025-10-15 19:02:10              0   \n",
      "1  2025-10-15 19:01:39              0   \n",
      "2  2025-10-15 18:43:17              0   \n",
      "3  2025-10-15 18:37:34              0   \n",
      "4  2025-10-15 18:30:43              0   \n",
      "\n",
      "                                          clean_text    label  \n",
      "0  hati hati aplikasi ini sering error , jangan m...  negatif  \n",
      "1                                    sangat membantu  positif  \n",
      "2  sangat membantu keperluan masyarakat untuk har...  positif  \n",
      "3  transfer ke bank lain memakai aplikasi ini tap...  negatif  \n",
      "4                                  apk yang, bagusss  positif  \n"
     ]
    }
   ],
   "source": [
    "# Load data\n",
    "data_file = 'data/interim/all_apps_clean.csv'\n",
    "\n",
    "try:\n",
    "    df = pd.read_csv(data_file)\n",
    "    print(f\"✅ Loaded data: {len(df)} reviews\")\n",
    "    print(f\"📊 Columns: {list(df.columns)}\")\n",
    "    print(f\"\\n📋 Preview:\")\n",
    "    print(df.head())\n",
    "except FileNotFoundError:\n",
    "    print(f\"❌ File not found: {data_file}\")\n",
    "    print(\"⚠️ Jalankan notebook 2_preprocessing.ipynb terlebih dahulu!\")\n",
    "    raise"
   ]
  },
  {
   "cell_type": "markdown",
   "id": "7a5386ab",
   "metadata": {},
   "source": [
    "## Load Model IndoBERT\n",
    "\n",
    "Download dan load model dari Hugging Face. **First run akan download ~400MB**."
   ]
  },
  {
   "cell_type": "code",
   "execution_count": null,
   "id": "45eb807d",
   "metadata": {},
   "outputs": [
    {
     "name": "stdout",
     "output_type": "stream",
     "text": [
      "📥 Loading model: mdhugol/indonesia-bert-sentiment-classification\n",
      "⏳ Please wait... (first run akan download model)\n",
      "\n"
     ]
    },
    {
     "data": {
      "application/vnd.jupyter.widget-view+json": {
       "model_id": "5a6609bcbfa6486285c7f4bf28737ed8",
       "version_major": 2,
       "version_minor": 0
      },
      "text/plain": [
       "tokenizer_config.json:   0%|          | 0.00/2.00 [00:00<?, ?B/s]"
      ]
     },
     "metadata": {},
     "output_type": "display_data"
    },
    {
     "data": {
      "application/vnd.jupyter.widget-view+json": {
       "model_id": "40d59a9a83d34a7aa5123d7d35e445e7",
       "version_major": 2,
       "version_minor": 0
      },
      "text/plain": [
       "config.json: 0.00B [00:00, ?B/s]"
      ]
     },
     "metadata": {},
     "output_type": "display_data"
    },
    {
     "data": {
      "application/vnd.jupyter.widget-view+json": {
       "model_id": "078b89cca8ca4aa9b1ef8bb8a20ade5f",
       "version_major": 2,
       "version_minor": 0
      },
      "text/plain": [
       "vocab.txt: 0.00B [00:00, ?B/s]"
      ]
     },
     "metadata": {},
     "output_type": "display_data"
    },
    {
     "data": {
      "application/vnd.jupyter.widget-view+json": {
       "model_id": "09eb6dee12c140c49c3da389def620f3",
       "version_major": 2,
       "version_minor": 0
      },
      "text/plain": [
       "special_tokens_map.json:   0%|          | 0.00/112 [00:00<?, ?B/s]"
      ]
     },
     "metadata": {},
     "output_type": "display_data"
    },
    {
     "name": "stdout",
     "output_type": "stream",
     "text": [
      "✅ Tokenizer loaded\n"
     ]
    },
    {
     "name": "stderr",
     "output_type": "stream",
     "text": [
      "Xet Storage is enabled for this repo, but the 'hf_xet' package is not installed. Falling back to regular HTTP download. For better performance, install the package with: `pip install huggingface_hub[hf_xet]` or `pip install hf_xet`\n"
     ]
    },
    {
     "data": {
      "application/vnd.jupyter.widget-view+json": {
       "model_id": "37379ebf93e74ad2b910279226412caf",
       "version_major": 2,
       "version_minor": 0
      },
      "text/plain": [
       "pytorch_model.bin:   0%|          | 0.00/498M [00:00<?, ?B/s]"
      ]
     },
     "metadata": {},
     "output_type": "display_data"
    },
    {
     "name": "stdout",
     "output_type": "stream",
     "text": [
      "✅ Model loaded and moved to cuda\n",
      "\n",
      "🏷️ Label mapping: {0: 'positif', 1: 'netral', 2: 'negatif'}\n"
     ]
    },
    {
     "name": "stderr",
     "output_type": "stream",
     "text": [
      "Xet Storage is enabled for this repo, but the 'hf_xet' package is not installed. Falling back to regular HTTP download. For better performance, install the package with: `pip install huggingface_hub[hf_xet]` or `pip install hf_xet`\n",
      "Exception ignored in: <function tqdm.__del__ at 0x0000027A15F08E00>\n",
      "Traceback (most recent call last):\n",
      "  File \"d:\\sentiment-analysis\\venv\\Lib\\site-packages\\tqdm\\std.py\", line 1148, in __del__\n",
      "    self.close()\n",
      "  File \"d:\\sentiment-analysis\\venv\\Lib\\site-packages\\tqdm\\notebook.py\", line 279, in close\n",
      "    self.disp(bar_style='danger', check_delay=False)\n",
      "    ^^^^^^^^^\n",
      "AttributeError: 'tqdm' object has no attribute 'disp'\n"
     ]
    }
   ],
   "source": [
    "# Model configuration\n",
    "MODEL_NAME = 'mdhugol/indonesia-bert-sentiment-classification'\n",
    "CACHE_DIR = 'models'\n",
    "\n",
    "print(f\"📥 Loading model: {MODEL_NAME}\")\n",
    "print(\"⏳ Please wait... (first run akan download model)\")\n",
    "print()\n",
    "\n",
    "# Load tokenizer\n",
    "tokenizer = AutoTokenizer.from_pretrained(\n",
    "    MODEL_NAME,\n",
    "    cache_dir=CACHE_DIR\n",
    ")\n",
    "print(\"✅ Tokenizer loaded\")\n",
    "\n",
    "# Load model\n",
    "model = AutoModelForSequenceClassification.from_pretrained(\n",
    "    MODEL_NAME,\n",
    "    cache_dir=CACHE_DIR\n",
    ")\n",
    "model.to(device)\n",
    "model.eval()\n",
    "print(f\"✅ Model loaded and moved to {device}\")\n",
    "\n",
    "# Label mapping - PENTING: Model mdhugol menggunakan mapping ini!\n",
    "# Berdasarkan dokumentasi: LABEL_0=positive, LABEL_1=neutral, LABEL_2=negative\n",
    "LABEL_MAP = {\n",
    "    0: 'positif',    # LABEL_0 = positive\n",
    "    1: 'netral',     # LABEL_1 = neutral\n",
    "    2: 'negatif'     # LABEL_2 = negative\n",
    "}\n",
    "print(f\"\\n🏷️ Label mapping (verified): {LABEL_MAP}\")\n",
    "print(\"   ⚠️ LABEL_0=positif, LABEL_1=netral, LABEL_2=negatif\")"
   ]
  },
  {
   "cell_type": "markdown",
   "id": "82cbd505",
   "metadata": {},
   "source": [
    "## Test Prediksi\n",
    "\n",
    "Test model dengan beberapa contoh teks."
   ]
  },
  {
   "cell_type": "code",
   "execution_count": null,
   "id": "b060f6c3",
   "metadata": {},
   "outputs": [
    {
     "name": "stdout",
     "output_type": "stream",
     "text": [
      "🧪 TEST PREDIKSI\n",
      "================================================================================\n",
      "\n",
      "Text: aplikasi sangat bagus dan membantu\n",
      "Prediction: POSITIF\n",
      "Probabilities:\n",
      "  positif: 0.9942 (99.42%)\n",
      "  netral: 0.0041 (0.41%)\n",
      "  negatif: 0.0017 (0.17%)\n",
      "--------------------------------------------------------------------------------\n",
      "\n",
      "Text: aplikasi sering error dan lambat\n",
      "Prediction: NEGATIF\n",
      "Probabilities:\n",
      "  positif: 0.0010 (0.10%)\n",
      "  netral: 0.0046 (0.46%)\n",
      "  negatif: 0.9944 (99.44%)\n",
      "--------------------------------------------------------------------------------\n",
      "\n",
      "Text: biasa saja tidak ada yang istimewa\n",
      "Prediction: NEGATIF\n",
      "Probabilities:\n",
      "  positif: 0.0035 (0.35%)\n",
      "  netral: 0.0012 (0.12%)\n",
      "  negatif: 0.9952 (99.52%)\n",
      "--------------------------------------------------------------------------------\n"
     ]
    }
   ],
   "source": [
    "def predict_text(text, max_length=256):\n",
    "    \"\"\"\n",
    "    Prediksi sentimen untuk satu teks.\n",
    "    \n",
    "    Returns:\n",
    "        dict: {'label': str, 'probs': dict, 'confidence': float}\n",
    "    \"\"\"\n",
    "    # Tokenize\n",
    "    inputs = tokenizer(\n",
    "        text,\n",
    "        return_tensors='pt',\n",
    "        truncation=True,\n",
    "        max_length=max_length,\n",
    "        padding=True\n",
    "    )\n",
    "    inputs = {k: v.to(device) for k, v in inputs.items()}\n",
    "    \n",
    "    # Predict\n",
    "    with torch.no_grad():\n",
    "        outputs = model(**inputs)\n",
    "        logits = outputs.logits\n",
    "        probs = torch.nn.functional.softmax(logits, dim=-1)\n",
    "    \n",
    "    # Get prediction\n",
    "    pred_idx = torch.argmax(probs, dim=-1).item()\n",
    "    pred_label = LABEL_MAP[pred_idx]\n",
    "    \n",
    "    # Get probabilities for all classes\n",
    "    probs_dict = {\n",
    "        LABEL_MAP[i]: float(probs[0][i].cpu())\n",
    "        for i in range(len(LABEL_MAP))\n",
    "    }\n",
    "    \n",
    "    # Confidence is the probability of predicted class\n",
    "    confidence = float(probs[0][pred_idx].cpu())\n",
    "    \n",
    "    return {\n",
    "        'label': pred_label,\n",
    "        'probs': probs_dict,\n",
    "        'confidence': confidence\n",
    "    }\n",
    "\n",
    "# Test dengan beberapa contoh\n",
    "print(\"🧪 TEST PREDIKSI\")\n",
    "print(\"=\" * 80)\n",
    "\n",
    "test_samples = [\n",
    "    \"aplikasi sangat bagus dan membantu sekali, pelayanan cepat\",\n",
    "    \"aplikasi sering error dan lambat, sangat mengecewakan\",\n",
    "    \"biasa saja tidak ada yang istimewa\",\n",
    "    \"driver ramah tapi aplikasi kadang lemot\",\n",
    "    \"mantap banget! recommended!\"\n",
    "]\n",
    "\n",
    "for text in test_samples:\n",
    "    result = predict_text(text)\n",
    "    print(f\"\\nText: {text}\")\n",
    "    print(f\"Prediction: {result['label'].upper()} (confidence: {result['confidence']:.2%})\")\n",
    "    print(f\"Probabilities:\")\n",
    "    for label, prob in sorted(result['probs'].items(), key=lambda x: x[1], reverse=True):\n",
    "        bar = '█' * int(prob * 50)\n",
    "        print(f\"  {label:8s}: {prob:.4f} ({prob*100:5.2f}%) {bar}\")\n",
    "    print(\"-\" * 80)"
   ]
  },
  {
   "cell_type": "code",
   "execution_count": null,
   "id": "7e1f48ae",
   "metadata": {},
   "outputs": [],
   "source": [
    "# Validasi dengan test cases yang jelas\n",
    "print(\"🔍 VALIDASI LABEL MAPPING\")\n",
    "print(\"=\" * 80)\n",
    "print(\"Testing dengan kalimat yang jelas positif/negatif untuk memastikan mapping benar\")\n",
    "print()\n",
    "\n",
    "validation_tests = [\n",
    "    (\"Sangat bagus sekali! Mantap! Recommended!\", \"positif\"),\n",
    "    (\"Jelek banget! Buruk sekali! Mengecewakan!\", \"negatif\"),\n",
    "    (\"Biasa saja, tidak istimewa\", \"netral\"),\n",
    "]\n",
    "\n",
    "all_correct = True\n",
    "for text, expected in validation_tests:\n",
    "    result = predict_text(text)\n",
    "    is_correct = result['label'] == expected\n",
    "    all_correct = all_correct and is_correct\n",
    "    \n",
    "    status = \"✅\" if is_correct else \"❌\"\n",
    "    print(f\"{status} Text: {text}\")\n",
    "    print(f\"   Expected: {expected} | Got: {result['label']} | Confidence: {result['confidence']:.2%}\")\n",
    "    print()\n",
    "\n",
    "if all_correct:\n",
    "    print(\"✅ VALIDASI BERHASIL! Label mapping sudah benar.\")\n",
    "else:\n",
    "    print(\"⚠️ WARNING: Ada prediksi yang tidak sesuai. Ini bisa normal untuk kasus netral.\")\n",
    "print(\"=\" * 80)"
   ]
  },
  {
   "cell_type": "markdown",
   "id": "9cffd72b",
   "metadata": {},
   "source": [
    "## Validasi Label Mapping\n",
    "\n",
    "Validasi bahwa label mapping sudah benar dengan test cases yang jelas."
   ]
  },
  {
   "cell_type": "code",
   "execution_count": null,
   "id": "d87efb4e",
   "metadata": {},
   "outputs": [
    {
     "name": "stdout",
     "output_type": "stream",
     "text": [
      "⚙️ Configuration:\n",
      "   Batch size: 16\n",
      "   Max length: 256\n",
      "   Total reviews: 2767\n",
      "\n",
      "🚀 Starting prediction...\n",
      "⏱️ Estimated time: 3-5 minutes (GPU)\n",
      "\n",
      "📝 Prepared 2767 texts for prediction\n"
     ]
    }
   ],
   "source": [
    "def predict_batch(texts, batch_size=16, max_length=256):\n",
    "    \"\"\"\n",
    "    Prediksi batch dengan progress bar.\n",
    "    \n",
    "    Args:\n",
    "        texts: List of texts\n",
    "        batch_size: Batch size (reduce jika out of memory)\n",
    "        max_length: Max sequence length\n",
    "    \n",
    "    Returns:\n",
    "        DataFrame with predictions\n",
    "    \"\"\"\n",
    "    results = {\n",
    "        'pred_label': [],\n",
    "        'pred_confidence': [],\n",
    "        'p_positif': [],\n",
    "        'p_netral': [],\n",
    "        'p_negatif': []\n",
    "    }\n",
    "    \n",
    "    # Process in batches\n",
    "    for i in tqdm(range(0, len(texts), batch_size), desc=\"Predicting\"):\n",
    "        batch_texts = texts[i:i+batch_size]\n",
    "        \n",
    "        # Tokenize\n",
    "        inputs = tokenizer(\n",
    "            batch_texts,\n",
    "            return_tensors='pt',\n",
    "            truncation=True,\n",
    "            max_length=max_length,\n",
    "            padding=True\n",
    "        )\n",
    "        inputs = {k: v.to(device) for k, v in inputs.items()}\n",
    "        \n",
    "        # Predict\n",
    "        with torch.no_grad():\n",
    "            outputs = model(**inputs)\n",
    "            logits = outputs.logits\n",
    "            probs = torch.nn.functional.softmax(logits, dim=-1)\n",
    "        \n",
    "        # Store results\n",
    "        pred_indices = torch.argmax(probs, dim=-1).cpu().numpy()\n",
    "        probs_array = probs.cpu().numpy()\n",
    "        \n",
    "        for pred_idx, prob_array in zip(pred_indices, probs_array):\n",
    "            pred_label = LABEL_MAP[pred_idx]\n",
    "            results['pred_label'].append(pred_label)\n",
    "            results['pred_confidence'].append(float(prob_array[pred_idx]))\n",
    "            \n",
    "            # Store probabilities in correct order\n",
    "            results['p_positif'].append(float(prob_array[0]))  # LABEL_0 = positif\n",
    "            results['p_netral'].append(float(prob_array[1]))   # LABEL_1 = netral\n",
    "            results['p_negatif'].append(float(prob_array[2]))  # LABEL_2 = negatif\n",
    "    \n",
    "    return pd.DataFrame(results)\n",
    "\n",
    "# Konfigurasi\n",
    "BATCH_SIZE = 16  # Reduce jika out of memory (misal 8 atau 4)\n",
    "MAX_LENGTH = 256\n",
    "\n",
    "print(f\"⚙️ Configuration:\")\n",
    "print(f\"   Batch size: {BATCH_SIZE}\")\n",
    "print(f\"   Max length: {MAX_LENGTH}\")\n",
    "print(f\"   Total reviews: {len(df)}\")\n",
    "print()\n",
    "\n",
    "# OPTIONAL: Test dengan sample kecil dulu\n",
    "# Uncomment baris di bawah untuk test dengan 100 data pertama\n",
    "# df_to_predict = df.head(100).copy()\n",
    "# print(\"⚠️ TEST MODE: Using first 100 reviews only\")\n",
    "\n",
    "# Untuk full dataset, gunakan ini:\n",
    "df_to_predict = df.copy()\n",
    "\n",
    "print(\"🚀 Starting prediction...\")\n",
    "print(f\"⏱️ Estimated time: {'3-5 minutes (GPU)' if device == 'cuda' else '30-45 minutes (CPU)'}\")\n",
    "print()\n",
    "\n",
    "# Prepare texts\n",
    "texts = df_to_predict['clean_text'].fillna('').tolist()\n",
    "print(f\"📝 Prepared {len(texts)} texts for prediction\")"
   ]
  },
  {
   "cell_type": "code",
   "execution_count": 8,
   "id": "fd58f2bb",
   "metadata": {},
   "outputs": [
    {
     "data": {
      "application/vnd.jupyter.widget-view+json": {
       "model_id": "75dd814aa72d4af3b7ca5bbfdd4eff74",
       "version_major": 2,
       "version_minor": 0
      },
      "text/plain": [
       "Predicting:   0%|          | 0/173 [00:00<?, ?it/s]"
      ]
     },
     "metadata": {},
     "output_type": "display_data"
    },
    {
     "name": "stdout",
     "output_type": "stream",
     "text": [
      "\n",
      "✅ Prediction complete!\n"
     ]
    }
   ],
   "source": [
    "# Jalankan prediksi\n",
    "predictions_df = predict_batch(\n",
    "    texts, \n",
    "    batch_size=BATCH_SIZE,\n",
    "    max_length=MAX_LENGTH\n",
    ")\n",
    "\n",
    "print(\"\\n✅ Prediction complete!\")"
   ]
  },
  {
   "cell_type": "markdown",
   "id": "ce63897d",
   "metadata": {},
   "source": [
    "## Gabungkan Hasil dengan Data Asli"
   ]
  },
  {
   "cell_type": "code",
   "execution_count": null,
   "id": "643219f9",
   "metadata": {},
   "outputs": [
    {
     "name": "stdout",
     "output_type": "stream",
     "text": [
      "✅ Combined data shape: (2767, 11)\n",
      "\n",
      "📋 Columns: ['app', 'content', 'score', 'at', 'thumbsUpCount', 'clean_text', 'label', 'pred_label', 'p_negatif', 'p_netral', 'p_positif']\n",
      "\n",
      "🔍 Preview:\n",
      "     app                                            content  score    label  \\\n",
      "0  gojek  hati hati aplikasi ini sering error , jgn mau ...      1  negatif   \n",
      "1  gojek                                    sangat membantu      5  positif   \n",
      "2  gojek  sangat membantu keperluan masyarakat untuk har...      5  positif   \n",
      "3  gojek  transfer ke bank lain memakai aplikasi ini tap...      1  negatif   \n",
      "4  gojek                                  apk yang, bagusss      5  positif   \n",
      "5  gojek                                  mudah cepat bagus      5  positif   \n",
      "6  gojek                                            mantapp      5  positif   \n",
      "7  gojek                                             mantap      5  positif   \n",
      "8  gojek  kenapa driver tidak segera mengabari apabila s...      1  negatif   \n",
      "9  gojek  parah masak gojek di malang sekarang banyak ya...      1  negatif   \n",
      "\n",
      "  pred_label  p_positif  p_netral  p_negatif  \n",
      "0    negatif   0.976633  0.005175   0.018192  \n",
      "1    positif   0.001983  0.004534   0.993483  \n",
      "2    positif   0.017039  0.005453   0.977508  \n",
      "3    negatif   0.983172  0.015791   0.001038  \n",
      "4    positif   0.002810  0.003514   0.993675  \n",
      "5    positif   0.002974  0.003060   0.993966  \n",
      "6    positif   0.000841  0.001968   0.997191  \n",
      "7    positif   0.000730  0.002070   0.997200  \n",
      "8     netral   0.026098  0.970703   0.003199  \n",
      "9    negatif   0.996752  0.001273   0.001974  \n"
     ]
    }
   ],
   "source": [
    "# Gabungkan prediksi dengan data asli\n",
    "df_result = pd.concat([\n",
    "    df_to_predict.reset_index(drop=True),\n",
    "    predictions_df\n",
    "], axis=1)\n",
    "\n",
    "print(f\"✅ Combined data shape: {df_result.shape}\")\n",
    "print(f\"\\n📋 Columns: {list(df_result.columns)}\")\n",
    "\n",
    "# Validasi hasil prediksi\n",
    "print(f\"\\n🔍 VALIDASI HASIL:\")\n",
    "print(f\"   Total predictions: {len(df_result)}\")\n",
    "print(f\"   Unique predicted labels: {df_result['pred_label'].unique()}\")\n",
    "print(f\"   Confidence range: {df_result['pred_confidence'].min():.4f} - {df_result['pred_confidence'].max():.4f}\")\n",
    "print(f\"   Mean confidence: {df_result['pred_confidence'].mean():.4f}\")\n",
    "\n",
    "# Display columns that exist\n",
    "print(f\"\\n📋 Preview (Top 10):\")\n",
    "display_cols = []\n",
    "for col in ['app', 'content', 'score', 'label', 'pred_label', 'pred_confidence', 'p_positif', 'p_netral', 'p_negatif']:\n",
    "    if col in df_result.columns:\n",
    "        display_cols.append(col)\n",
    "\n",
    "print(df_result[display_cols].head(10))\n",
    "\n",
    "# Cek distribusi prediksi\n",
    "print(f\"\\n📊 DISTRIBUSI PREDIKSI:\")\n",
    "for label in ['positif', 'netral', 'negatif']:\n",
    "    count = len(df_result[df_result['pred_label'] == label])\n",
    "    pct = count / len(df_result) * 100\n",
    "    avg_conf = df_result[df_result['pred_label'] == label]['pred_confidence'].mean()\n",
    "    print(f\"   {label:8s}: {count:4d} ({pct:5.2f}%) | Avg confidence: {avg_conf:.4f}\")"
   ]
  },
  {
   "cell_type": "markdown",
   "id": "c028525d",
   "metadata": {},
   "source": [
    "## Analisis Hasil Prediksi\n",
    "\n",
    "Bandingkan label otomatis (dari rating) vs prediksi model."
   ]
  },
  {
   "cell_type": "code",
   "execution_count": 10,
   "id": "46d4038d",
   "metadata": {},
   "outputs": [
    {
     "name": "stdout",
     "output_type": "stream",
     "text": [
      "📊 DISTRIBUSI PREDIKSI\n",
      "============================================================\n",
      "positif: 1483 (53.6%)\n",
      "negatif: 1044 (37.7%)\n",
      "netral: 240 (8.7%)\n",
      "\n",
      "📱 DISTRIBUSI PER APLIKASI\n",
      "============================================================\n",
      "\n",
      "GOJEK:\n",
      "  positif: 717 (47.5%)\n",
      "  negatif: 648 (42.9%)\n",
      "  netral: 145 (9.6%)\n",
      "\n",
      "GRAB:\n",
      "  positif: 766 (60.9%)\n",
      "  negatif: 396 (31.5%)\n",
      "  netral: 95 (7.6%)\n",
      "\n",
      "🔄 AGREEMENT: Label (Rating) vs Prediction\n",
      "============================================================\n",
      "Agreement: 2246/2767 (81.17%)\n",
      "Disagreement: 521/2767 (18.83%)\n"
     ]
    }
   ],
   "source": [
    "# Distribusi prediksi\n",
    "print(\"📊 DISTRIBUSI PREDIKSI\")\n",
    "print(\"=\" * 60)\n",
    "\n",
    "pred_counts = df_result['pred_label'].value_counts()\n",
    "for label, count in pred_counts.items():\n",
    "    percentage = count / len(df_result) * 100\n",
    "    print(f\"{label}: {count} ({percentage:.1f}%)\")\n",
    "\n",
    "# Distribusi per app\n",
    "print(\"\\n📱 DISTRIBUSI PER APLIKASI\")\n",
    "print(\"=\" * 60)\n",
    "\n",
    "for app in df_result['app'].unique():\n",
    "    app_data = df_result[df_result['app'] == app]\n",
    "    print(f\"\\n{app.upper()}:\")\n",
    "    for label, count in app_data['pred_label'].value_counts().items():\n",
    "        percentage = count / len(app_data) * 100\n",
    "        print(f\"  {label}: {count} ({percentage:.1f}%)\")\n",
    "\n",
    "# Perbandingan label vs prediksi\n",
    "print(\"\\n🔄 AGREEMENT: Label (Rating) vs Prediction\")\n",
    "print(\"=\" * 60)\n",
    "\n",
    "agreement = (df_result['label'] == df_result['pred_label']).sum()\n",
    "total = len(df_result)\n",
    "agreement_pct = agreement / total * 100\n",
    "\n",
    "print(f\"Agreement: {agreement}/{total} ({agreement_pct:.2f}%)\")\n",
    "print(f\"Disagreement: {total-agreement}/{total} ({100-agreement_pct:.2f}%)\")"
   ]
  },
  {
   "cell_type": "markdown",
   "id": "90cabe11",
   "metadata": {},
   "source": [
    "## Contoh Prediksi\n",
    "\n",
    "Lihat contoh prediksi per kategori."
   ]
  },
  {
   "cell_type": "code",
   "execution_count": 11,
   "id": "c0c22b3a",
   "metadata": {},
   "outputs": [
    {
     "name": "stdout",
     "output_type": "stream",
     "text": [
      "📋 CONTOH PREDIKSI PER KATEGORI\n",
      "================================================================================\n",
      "\n",
      "🏷️ PREDIKSI: POSITIF\n",
      "--------------------------------------------------------------------------------\n",
      "App: gojek | Rating: 5 | Label: positif\n",
      "Text: sangat membantu...\n",
      "Confidence: 0.20%\n",
      "\n",
      "App: gojek | Rating: 5 | Label: positif\n",
      "Text: sangat membantu keperluan masyarakat untuk harga bisa sedikit di minimalkan apalagi untuk ongkir mak...\n",
      "Confidence: 1.70%\n",
      "\n",
      "App: gojek | Rating: 5 | Label: positif\n",
      "Text: apk yang, bagusss...\n",
      "Confidence: 0.28%\n",
      "\n",
      "\n",
      "🏷️ PREDIKSI: NETRAL\n",
      "--------------------------------------------------------------------------------\n",
      "App: gojek | Rating: 1 | Label: negatif\n",
      "Text: kenapa driver tidak segera mengabari apabila sudah sampai, dan kenapa harus marah²...\n",
      "Confidence: 97.07%\n",
      "\n",
      "App: gojek | Rating: 5 | Label: positif\n",
      "Text: biarkan bintang yg berbicara...\n",
      "Confidence: 90.32%\n",
      "\n",
      "App: gojek | Rating: 5 | Label: positif\n",
      "Text: gojek hrs menambah pengaturan pd fitur pesan unt bs memblokir kontak yg msk, krn oknum\" DC skg msk k...\n",
      "Confidence: 53.09%\n",
      "\n",
      "\n",
      "🏷️ PREDIKSI: NEGATIF\n",
      "--------------------------------------------------------------------------------\n",
      "App: gojek | Rating: 1 | Label: negatif\n",
      "Text: hati hati aplikasi ini sering error , jgn mau memakai jasa gojek . sadar Kelen pesan driver jauh jau...\n",
      "Confidence: 1.82%\n",
      "\n",
      "App: gojek | Rating: 1 | Label: negatif\n",
      "Text: transfer ke bank lain memakai aplikasi ini tapi gak kunjung tiba ke rekening penerima, dsuruh nunggu...\n",
      "Confidence: 0.10%\n",
      "\n",
      "App: gojek | Rating: 1 | Label: negatif\n",
      "Text: parah masak gojek di malang sekarang banyak yang tidak sesuai plat nomer dan sepeda nya tidak terdaf...\n",
      "Confidence: 0.20%\n",
      "\n"
     ]
    }
   ],
   "source": [
    "print(\"📋 CONTOH PREDIKSI PER KATEGORI\")\n",
    "print(\"=\" * 80)\n",
    "\n",
    "for pred_label in ['positif', 'netral', 'negatif']:\n",
    "    print(f\"\\n🏷️ PREDIKSI: {pred_label.upper()}\")\n",
    "    print(\"-\" * 80)\n",
    "    \n",
    "    samples = df_result[df_result['pred_label'] == pred_label].head(3)\n",
    "    for idx, row in samples.iterrows():\n",
    "        print(f\"App: {row['app']} | Rating: {row['score']} | Label: {row['label']}\")\n",
    "        print(f\"Text: {row['content'][:100]}...\")\n",
    "        print(f\"Confidence: {row[f'p_{pred_label}']:.2%}\")\n",
    "        print()"
   ]
  },
  {
   "cell_type": "markdown",
   "id": "d9a8cf81",
   "metadata": {},
   "source": [
    "## Simpan Hasil\n",
    "\n",
    "Simpan data dengan prediksi ke `data/processed/`."
   ]
  },
  {
   "cell_type": "code",
   "execution_count": 12,
   "id": "599ab9b6",
   "metadata": {},
   "outputs": [
    {
     "name": "stdout",
     "output_type": "stream",
     "text": [
      "💾 Saved results to: data/processed/all_apps_with_predictions.csv\n",
      "📊 Total rows: 2767\n",
      "📂 File size: 0.70 MB\n"
     ]
    }
   ],
   "source": [
    "# Simpan hasil\n",
    "output_file = 'data/processed/all_apps_with_predictions.csv'\n",
    "df_result.to_csv(output_file, index=False, encoding='utf-8')\n",
    "\n",
    "print(f\"💾 Saved results to: {output_file}\")\n",
    "print(f\"📊 Total rows: {len(df_result)}\")\n",
    "print(f\"📂 File size: {Path(output_file).stat().st_size / 1024 / 1024:.2f} MB\")"
   ]
  },
  {
   "cell_type": "markdown",
   "id": "620a376e",
   "metadata": {},
   "source": [
    "## 🎉 Selesai!\n",
    "\n",
    "Prediksi sentimen berhasil dilakukan!\n",
    "\n",
    "**Output:**\n",
    "- File: `data/processed/all_apps_with_predictions.csv`\n",
    "- Total: Reviews dengan prediksi sentimen\n",
    "- Kolom prediksi: `pred_label`, `p_negatif`, `p_netral`, `p_positif`\n",
    "\n",
    "**Next steps:**\n",
    "- Jalankan notebook `4_evaluation.ipynb` untuk evaluasi mendalam & visualisasi\n",
    "\n",
    "**Summary:**\n",
    "- ✅ Model: IndoBERT sentiment classification\n",
    "- ✅ Prediksi: Lengkap untuk semua reviews\n",
    "- ✅ Device: GPU/CPU\n",
    "- ✅ File tersimpan di data/processed/"
   ]
  }
 ],
 "metadata": {
  "kernelspec": {
   "display_name": "venv",
   "language": "python",
   "name": "python3"
  },
  "language_info": {
   "codemirror_mode": {
    "name": "ipython",
    "version": 3
   },
   "file_extension": ".py",
   "mimetype": "text/x-python",
   "name": "python",
   "nbconvert_exporter": "python",
   "pygments_lexer": "ipython3",
   "version": "3.11.6"
  }
 },
 "nbformat": 4,
 "nbformat_minor": 5
}
